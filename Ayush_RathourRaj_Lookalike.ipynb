{
  "nbformat": 4,
  "nbformat_minor": 0,
  "metadata": {
    "colab": {
      "provenance": []
    },
    "kernelspec": {
      "name": "python3",
      "display_name": "Python 3"
    },
    "language_info": {
      "name": "python"
    }
  },
  "cells": [
    {
      "cell_type": "code",
      "source": [
        "import pandas as pd\n",
        "\n",
        "customers = pd.read_csv('Customers.csv')\n",
        "products = pd.read_csv('Products.csv')\n",
        "transactions = pd.read_csv('Transactions.csv')\n",
        "\n",
        "# Merge datasets\n",
        "merged_data = pd.merge(transactions, customers, on='CustomerID')\n",
        "merged_data = pd.merge(merged_data, products, on='ProductID')"
      ],
      "metadata": {
        "id": "lxrZqolNhrm-"
      },
      "execution_count": 4,
      "outputs": []
    },
    {
      "cell_type": "code",
      "source": [
        "total_spend = merged_data.groupby('CustomerID')['TotalValue'].sum().reset_index()\n",
        "total_spend.columns = ['CustomerID', 'TotalSpend']"
      ],
      "metadata": {
        "id": "NSc2H_sCiAHC"
      },
      "execution_count": 6,
      "outputs": []
    },
    {
      "cell_type": "code",
      "source": [
        "num_transactions = merged_data.groupby('CustomerID')['TransactionID'].count().reset_index()\n",
        "num_transactions.columns = ['CustomerID', 'NumTransactions']"
      ],
      "metadata": {
        "id": "Mc8LSu2viMpJ"
      },
      "execution_count": 7,
      "outputs": []
    },
    {
      "cell_type": "code",
      "source": [
        "avg_transaction_value = merged_data.groupby('CustomerID')['TotalValue'].mean().reset_index()\n",
        "avg_transaction_value.columns = ['CustomerID', 'AvgTransactionValue']"
      ],
      "metadata": {
        "id": "XDmyBV2LiVjM"
      },
      "execution_count": 8,
      "outputs": []
    },
    {
      "cell_type": "code",
      "source": [
        "category_pivot = merged_data.pivot_table(index='CustomerID', columns='Category', values='TransactionID', aggfunc='count', fill_value=0)"
      ],
      "metadata": {
        "id": "U66tvGCsiY0X"
      },
      "execution_count": 9,
      "outputs": []
    },
    {
      "cell_type": "code",
      "source": [
        "region_pivot = pd.get_dummies(customers[['CustomerID', 'Region']], columns=['Region'], prefix='Region')"
      ],
      "metadata": {
        "id": "VIh7wBnwibgT"
      },
      "execution_count": 10,
      "outputs": []
    },
    {
      "cell_type": "code",
      "source": [
        "customers['SignupDate'] = pd.to_datetime(customers['SignupDate'])\n",
        "customers['DaysSinceSignup'] = (pd.Timestamp.now() - customers['SignupDate']).dt.days"
      ],
      "metadata": {
        "id": "N45kMqM1ifqM"
      },
      "execution_count": 11,
      "outputs": []
    },
    {
      "cell_type": "code",
      "source": [
        "customer_features = pd.merge(total_spend, num_transactions, on='CustomerID')\n",
        "customer_features = pd.merge(customer_features, avg_transaction_value, on='CustomerID')\n",
        "customer_features = pd.merge(customer_features, category_pivot, on='CustomerID')\n",
        "customer_features = pd.merge(customer_features, region_pivot, on='CustomerID')\n",
        "customer_features = pd.merge(customer_features, customers[['CustomerID', 'DaysSinceSignup']], on='CustomerID')"
      ],
      "metadata": {
        "id": "07MvaR4rijDb"
      },
      "execution_count": 12,
      "outputs": []
    },
    {
      "cell_type": "code",
      "source": [
        "from sklearn.preprocessing import MinMaxScaler\n",
        "\n",
        "scaler = MinMaxScaler()\n",
        "scaled_features = scaler.fit_transform(customer_features.drop(columns=['CustomerID']))\n",
        "scaled_features = pd.DataFrame(scaled_features, columns=customer_features.columns[1:])\n",
        "scaled_features['CustomerID'] = customer_features['CustomerID']"
      ],
      "metadata": {
        "id": "kk2DaX4fimgW"
      },
      "execution_count": 13,
      "outputs": []
    },
    {
      "cell_type": "code",
      "source": [
        "from sklearn.metrics.pairwise import cosine_similarity\n",
        "\n",
        "# Compute similarity matrix\n",
        "similarity_matrix = cosine_similarity(scaled_features.drop(columns=['CustomerID']))\n",
        "similarity_df = pd.DataFrame(similarity_matrix, index=customer_features['CustomerID'], columns=customer_features['CustomerID'])"
      ],
      "metadata": {
        "id": "9ofzMGiOirK0"
      },
      "execution_count": 14,
      "outputs": []
    },
    {
      "cell_type": "code",
      "source": [
        "lookalike_map = {}\n",
        "\n",
        "for customer in customer_features['CustomerID']:\n",
        "    # Get similarity scores for the customer\n",
        "    similarities = similarity_df[customer].sort_values(ascending=False)\n",
        "    # Exclude the customer itself\n",
        "    similarities = similarities[similarities.index != customer]\n",
        "    # Get top 3 lookalikes\n",
        "    top_3 = similarities.head(3).reset_index()\n",
        "    top_3.columns = ['LookalikeCustomerID', 'SimilarityScore']\n",
        "    # Store in map\n",
        "    lookalike_map[customer] = list(zip(top_3['LookalikeCustomerID'], top_3['SimilarityScore']))"
      ],
      "metadata": {
        "id": "235IaXSTizdj"
      },
      "execution_count": 15,
      "outputs": []
    },
    {
      "cell_type": "code",
      "source": [
        "import csv\n",
        "\n",
        "with open('Lookalike.csv', 'w', newline='') as file:\n",
        "    writer = csv.writer(file)\n",
        "    writer.writerow(['CustomerID', 'LookalikeCustomerID', 'SimilarityScore'])\n",
        "    for customer, lookalikes in lookalike_map.items():\n",
        "        for lookalike, score in lookalikes:\n",
        "            writer.writerow([customer, lookalike, score])"
      ],
      "metadata": {
        "id": "CcnyopiSi5Ac"
      },
      "execution_count": 16,
      "outputs": []
    },
    {
      "cell_type": "code",
      "source": [
        "for customer in customer_features['CustomerID'][:20]:\n",
        "    print(f\"Customer: {customer}\")\n",
        "    print(\"Top 3 Lookalikes:\")\n",
        "    for lookalike, score in lookalike_map[customer]:\n",
        "        print(f\"  - {lookalike}: {score:.4f}\")\n",
        "    print()"
      ],
      "metadata": {
        "colab": {
          "base_uri": "https://localhost:8080/"
        },
        "id": "O2L7aD52i_TN",
        "outputId": "c99998db-6ed8-4343-c2d5-52fe3144540e"
      },
      "execution_count": 17,
      "outputs": [
        {
          "output_type": "stream",
          "name": "stdout",
          "text": [
            "Customer: C0001\n",
            "Top 3 Lookalikes:\n",
            "  - C0112: 0.9777\n",
            "  - C0192: 0.9738\n",
            "  - C0118: 0.9720\n",
            "\n",
            "Customer: C0002\n",
            "Top 3 Lookalikes:\n",
            "  - C0134: 0.9906\n",
            "  - C0159: 0.9783\n",
            "  - C0106: 0.9767\n",
            "\n",
            "Customer: C0003\n",
            "Top 3 Lookalikes:\n",
            "  - C0031: 0.9929\n",
            "  - C0129: 0.9859\n",
            "  - C0158: 0.9728\n",
            "\n",
            "Customer: C0004\n",
            "Top 3 Lookalikes:\n",
            "  - C0113: 0.9852\n",
            "  - C0104: 0.9714\n",
            "  - C0174: 0.9604\n",
            "\n",
            "Customer: C0005\n",
            "Top 3 Lookalikes:\n",
            "  - C0007: 0.9959\n",
            "  - C0140: 0.9562\n",
            "  - C0186: 0.9489\n",
            "\n",
            "Customer: C0006\n",
            "Top 3 Lookalikes:\n",
            "  - C0187: 0.9797\n",
            "  - C0085: 0.9494\n",
            "  - C0169: 0.9491\n",
            "\n",
            "Customer: C0007\n",
            "Top 3 Lookalikes:\n",
            "  - C0005: 0.9959\n",
            "  - C0140: 0.9657\n",
            "  - C0159: 0.9468\n",
            "\n",
            "Customer: C0008\n",
            "Top 3 Lookalikes:\n",
            "  - C0098: 0.9543\n",
            "  - C0194: 0.9524\n",
            "  - C0059: 0.9469\n",
            "\n",
            "Customer: C0009\n",
            "Top 3 Lookalikes:\n",
            "  - C0062: 0.9573\n",
            "  - C0010: 0.9572\n",
            "  - C0061: 0.9406\n",
            "\n",
            "Customer: C0010\n",
            "Top 3 Lookalikes:\n",
            "  - C0061: 0.9733\n",
            "  - C0062: 0.9692\n",
            "  - C0009: 0.9572\n",
            "\n",
            "Customer: C0011\n",
            "Top 3 Lookalikes:\n",
            "  - C0174: 0.9811\n",
            "  - C0153: 0.9792\n",
            "  - C0169: 0.9724\n",
            "\n",
            "Customer: C0012\n",
            "Top 3 Lookalikes:\n",
            "  - C0039: 0.9506\n",
            "  - C0187: 0.9493\n",
            "  - C0052: 0.9481\n",
            "\n",
            "Customer: C0013\n",
            "Top 3 Lookalikes:\n",
            "  - C0048: 0.9497\n",
            "  - C0087: 0.9446\n",
            "  - C0190: 0.9445\n",
            "\n",
            "Customer: C0014\n",
            "Top 3 Lookalikes:\n",
            "  - C0167: 0.9025\n",
            "  - C0063: 0.8917\n",
            "  - C0009: 0.8730\n",
            "\n",
            "Customer: C0015\n",
            "Top 3 Lookalikes:\n",
            "  - C0036: 0.9635\n",
            "  - C0058: 0.9451\n",
            "  - C0131: 0.9412\n",
            "\n",
            "Customer: C0016\n",
            "Top 3 Lookalikes:\n",
            "  - C0183: 0.9999\n",
            "  - C0067: 0.9843\n",
            "  - C0026: 0.9658\n",
            "\n",
            "Customer: C0017\n",
            "Top 3 Lookalikes:\n",
            "  - C0075: 0.9890\n",
            "  - C0081: 0.9813\n",
            "  - C0041: 0.9780\n",
            "\n",
            "Customer: C0018\n",
            "Top 3 Lookalikes:\n",
            "  - C0035: 0.9722\n",
            "  - C0117: 0.9683\n",
            "  - C0050: 0.9602\n",
            "\n",
            "Customer: C0019\n",
            "Top 3 Lookalikes:\n",
            "  - C0121: 0.9508\n",
            "  - C0023: 0.9448\n",
            "  - C0070: 0.9411\n",
            "\n",
            "Customer: C0020\n",
            "Top 3 Lookalikes:\n",
            "  - C0050: 0.9571\n",
            "  - C0144: 0.9409\n",
            "  - C0026: 0.9289\n",
            "\n"
          ]
        }
      ]
    },
    {
      "cell_type": "code",
      "source": [],
      "metadata": {
        "id": "PM1ZSqpvjDYC"
      },
      "execution_count": null,
      "outputs": []
    }
  ]
}